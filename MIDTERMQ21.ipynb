{
 "cells": [
  {
   "cell_type": "markdown",
   "id": "b4177975-84d4-4121-a158-04f3551604a6",
   "metadata": {},
   "source": [
    "# QUESTION 21"
   ]
  },
  {
   "cell_type": "code",
   "execution_count": 11,
   "id": "1210c48d-4cfc-49fd-9fbc-2c4e2c1efe40",
   "metadata": {},
   "outputs": [],
   "source": [
    "import math\n",
    "\n",
    "class Point:\n",
    "    def __init__(self, x=0, y=0):  # Default constructor with default x and y values set to 0\n",
    "        self.x = x\n",
    "        self.y = y\n",
    "\n",
    "class Segment:\n",
    "    def __init__(self, p1, p2):  # Parameterized constructor accepting two Point objects\n",
    "        self.p1 = p1\n",
    "        self.p2 = p2\n",
    "\n",
    "    def length(self):\n",
    "        # Calculate the difference between the two points\n",
    "        x_coordinates = self.p2.x - self.p1.x\n",
    "        y_coordinates = self.p2.y - self.p1.y\n",
    "\n",
    "        distance = math.sqrt(x_coordinates**2 + y_coordinates**2)  # Applying the Pythagorean theorem\n",
    "\n",
    "        return distance\n",
    "\n",
    "    def slope(self):\n",
    "        if self.p2.x == self.p1.x:\n",
    "            return None \n",
    "        return (self.p2.x - self.p1.x) / (self.p2.y - self.p1.y) # Calculate and return the slope of the segment\n",
    "\n",
    "\n",
    "# Executing Test Cases\n",
    "p1 = Point(3, 4)\n",
    "p2 = Point()\n",
    "s = Segment(p1, p2)\n",
    "\n",
    "\n"
   ]
  },
  {
   "cell_type": "code",
   "execution_count": 12,
   "id": "ed3db884-9878-4f21-8df2-39659f4385ea",
   "metadata": {},
   "outputs": [
    {
     "name": "stdout",
     "output_type": "stream",
     "text": [
      "5.0\n"
     ]
    }
   ],
   "source": [
    "print(s.length()) "
   ]
  },
  {
   "cell_type": "code",
   "execution_count": 13,
   "id": "6883ee0b-31cc-4f9e-971f-2b529171a453",
   "metadata": {},
   "outputs": [
    {
     "name": "stdout",
     "output_type": "stream",
     "text": [
      "0.75\n"
     ]
    }
   ],
   "source": [
    "print(s.slope()) "
   ]
  },
  {
   "cell_type": "code",
   "execution_count": null,
   "id": "7a8a75e4-9df6-4f4f-8983-c83cb017d112",
   "metadata": {},
   "outputs": [],
   "source": []
  }
 ],
 "metadata": {
  "kernelspec": {
   "display_name": "Python 3 (ipykernel)",
   "language": "python",
   "name": "python3"
  },
  "language_info": {
   "codemirror_mode": {
    "name": "ipython",
    "version": 3
   },
   "file_extension": ".py",
   "mimetype": "text/x-python",
   "name": "python",
   "nbconvert_exporter": "python",
   "pygments_lexer": "ipython3",
   "version": "3.11.7"
  }
 },
 "nbformat": 4,
 "nbformat_minor": 5
}
